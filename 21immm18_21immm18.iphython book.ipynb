{
 "cells": [
  {
   "cell_type": "code",
   "execution_count": 0,
   "metadata": {
    "application/vnd.databricks.v1+cell": {
     "cellMetadata": {
      "byteLimit": 2048000,
      "rowLimit": 10000
     },
     "inputWidgets": {},
     "nuid": "e055067a-0334-4959-aeb3-642eb47573ee",
     "showTitle": false,
     "tableResultSettingsMap": {},
     "title": ""
    }
   },
   "outputs": [
    {
     "output_type": "stream",
     "name": "stdout",
     "output_type": "stream",
     "text": [
      "===== Preview Data =====\n+----------+-----------+--------+---------+------------+-------------+------------+---------+------+\n|booking_id|customer_id|hotel_id| location|booking_date|stay_duration|amount_spent|   status|rating|\n+----------+-----------+--------+---------+------------+-------------+------------+---------+------+\n|         1|      C1001|    H101|      Goa|  2024-05-20|            2|        7656|   booked|     1|\n|         2|      C1002|    H105|      Goa|  2024-10-29|            4|        9040|   booked|     2|\n|         3|      C1003|    H102|  Chennai|  2024-11-04|            1|        6597|   booked|     5|\n|         4|      C1004|    H104|    Delhi|  2024-08-17|            5|       21390|cancelled|     1|\n|         5|      C1005|    H102|Hyderabad|  2024-06-23|            3|        9819|   booked|     3|\n+----------+-----------+--------+---------+------------+-------------+------------+---------+------+\nonly showing top 5 rows\n===== Schema (Column Names + Types) =====\nroot\n |-- booking_id: integer (nullable = true)\n |-- customer_id: string (nullable = true)\n |-- hotel_id: string (nullable = true)\n |-- location: string (nullable = true)\n |-- booking_date: date (nullable = true)\n |-- stay_duration: integer (nullable = true)\n |-- amount_spent: integer (nullable = true)\n |-- status: string (nullable = true)\n |-- rating: integer (nullable = true)\n\n===== Total Bookings =====\n50\n===== Sample Columns =====\n['booking_id', 'customer_id', 'hotel_id', 'location', 'booking_date', 'stay_duration', 'amount_spent', 'status', 'rating']\n"
     ]
    }
   ],
   "source": [
    "# ✅ Load CSV\n",
    "df = spark.read.csv(\n",
    "    \"/Volumes/travel_catalog/exam_schema/travel_volume/travel_data_sample.csv\",\n",
    "    header=True,\n",
    "    inferSchema=True\n",
    ")\n",
    "\n",
    "print(\"===== Preview Data =====\")\n",
    "df.show(5)\n",
    "\n",
    "print(\"===== Schema (Column Names + Types) =====\")\n",
    "df.printSchema()\n",
    "\n",
    "print(\"===== Total Bookings =====\")\n",
    "print(df.count())\n",
    "\n",
    "print(\"===== Sample Columns =====\")\n",
    "print(df.columns)\n",
    "\n",
    "# \uD83D\uDD39 Analysis 1: Bookings per Destination\n",
    "if \"Destination\" in df.columns:\n",
    "    print(\"===== Bookings by Destination =====\")\n",
    "    df.groupBy(\"Destination\").count().show()\n",
    "\n",
    "# \uD83D\uDD39 Analysis 2: Revenue per Destination\n",
    "if \"Revenue\" in df.columns:\n",
    "    print(\"===== Total Revenue by Destination =====\")\n",
    "    df.groupBy(\"Destination\").sum(\"Revenue\").show()\n",
    "\n",
    "# \uD83D\uDD39 Analysis 3: Customers with Most Bookings\n",
    "if \"CustomerID\" in df.columns:\n",
    "    print(\"===== Top 5 Customers by Booking Count =====\")\n",
    "    df.groupBy(\"CustomerID\").count().orderBy(\"count\", ascending=False).show(5)\n",
    "\n",
    "# \uD83D\uDD39 Analysis 4: Trend by Booking Date (if column exists)\n",
    "if \"BookingDate\" in df.columns:\n",
    "    from pyspark.sql.functions import to_date, col, count\n",
    "\n",
    "    df2 = df.withColumn(\"BookingDate\", to_date(col(\"BookingDate\"), \"yyyy-MM-dd\"))\n",
    "    print(\"===== Daily Bookings Trend =====\")\n",
    "    df2.groupBy(\"BookingDate\").agg(count(\"*\").alias(\"Total_Bookings\")).orderBy(\"BookingDate\").show()\n"
   ]
  },
  {
   "cell_type": "code",
   "execution_count": 0,
   "metadata": {
    "application/vnd.databricks.v1+cell": {
     "cellMetadata": {
      "byteLimit": 2048000,
      "rowLimit": 10000
     },
     "inputWidgets": {},
     "nuid": "22ba1361-65dd-40e6-9939-c3cf93464c3b",
     "showTitle": false,
     "tableResultSettingsMap": {},
     "title": ""
    }
   },
   "outputs": [
    {
     "output_type": "stream",
     "name": "stdout",
     "output_type": "stream",
     "text": [
      "===== Preview Data =====\n+----------+-----------+--------+---------+------------+-------------+------------+---------+------+\n|booking_id|customer_id|hotel_id| location|booking_date|stay_duration|amount_spent|   status|rating|\n+----------+-----------+--------+---------+------------+-------------+------------+---------+------+\n|         1|      C1001|    H101|      Goa|  2024-05-20|            2|        7656|   booked|     1|\n|         2|      C1002|    H105|      Goa|  2024-10-29|            4|        9040|   booked|     2|\n|         3|      C1003|    H102|  Chennai|  2024-11-04|            1|        6597|   booked|     5|\n|         4|      C1004|    H104|    Delhi|  2024-08-17|            5|       21390|cancelled|     1|\n|         5|      C1005|    H102|Hyderabad|  2024-06-23|            3|        9819|   booked|     3|\n+----------+-----------+--------+---------+------------+-------------+------------+---------+------+\nonly showing top 5 rows\n===== Schema =====\nroot\n |-- booking_id: integer (nullable = true)\n |-- customer_id: string (nullable = true)\n |-- hotel_id: string (nullable = true)\n |-- location: string (nullable = true)\n |-- booking_date: date (nullable = true)\n |-- stay_duration: integer (nullable = true)\n |-- amount_spent: integer (nullable = true)\n |-- status: string (nullable = true)\n |-- rating: integer (nullable = true)\n\n"
     ]
    }
   ],
   "source": [
    "from pyspark.sql.functions import *\n",
    "\n",
    "# Step 1: Load dataset\n",
    "df = spark.read.csv(\n",
    "    \"/Volumes/travel_catalog/exam_schema/travel_volume/travel_data_sample.csv\",\n",
    "    header=True,\n",
    "    inferSchema=True\n",
    ")\n",
    "\n",
    "print(\"===== Preview Data =====\")\n",
    "df.show(5)\n",
    "\n",
    "print(\"===== Schema =====\")\n",
    "df.printSchema()\n"
   ]
  },
  {
   "cell_type": "code",
   "execution_count": 0,
   "metadata": {
    "application/vnd.databricks.v1+cell": {
     "cellMetadata": {
      "byteLimit": 2048000,
      "rowLimit": 10000
     },
     "inputWidgets": {},
     "nuid": "1a5a7a1b-62cc-4301-8165-68bb71da3386",
     "showTitle": false,
     "tableResultSettingsMap": {},
     "title": ""
    }
   },
   "outputs": [
    {
     "output_type": "display_data",
     "data": {
      "text/html": [
       "<style scoped>\n",
       "  .table-result-container {\n",
       "    max-height: 300px;\n",
       "    overflow: auto;\n",
       "  }\n",
       "  table, th, td {\n",
       "    border: 1px solid black;\n",
       "    border-collapse: collapse;\n",
       "  }\n",
       "  th, td {\n",
       "    padding: 5px;\n",
       "  }\n",
       "  th {\n",
       "    text-align: left;\n",
       "  }\n",
       "</style><div class='table-result-container'><table class='table-result'><thead style='background-color: white'><tr><th>hotel_id</th><th>total_revenue</th></tr></thead><tbody><tr><td>H103</td><td>207194</td></tr><tr><td>H105</td><td>203798</td></tr><tr><td>H101</td><td>170233</td></tr><tr><td>H102</td><td>149496</td></tr><tr><td>H104</td><td>71130</td></tr></tbody></table></div>"
      ]
     },
     "metadata": {
      "application/vnd.databricks.v1+output": {
       "addedWidgets": {},
       "aggData": [],
       "aggError": "",
       "aggOverflow": false,
       "aggSchema": [],
       "aggSeriesLimitReached": false,
       "aggType": "",
       "arguments": {},
       "columnCustomDisplayInfos": {},
       "data": [
        [
         "H103",
         207194
        ],
        [
         "H105",
         203798
        ],
        [
         "H101",
         170233
        ],
        [
         "H102",
         149496
        ],
        [
         "H104",
         71130
        ]
       ],
       "datasetInfos": [],
       "dbfsResultPath": null,
       "isJsonSchema": true,
       "metadata": {},
       "overflow": false,
       "plotOptions": {
        "customPlotOptions": {},
        "displayType": "table",
        "pivotAggregation": null,
        "pivotColumns": null,
        "xColumns": null,
        "yColumns": null
       },
       "removedWidgets": [],
       "schema": [
        {
         "metadata": "{}",
         "name": "hotel_id",
         "type": "\"string\""
        },
        {
         "metadata": "{}",
         "name": "total_revenue",
         "type": "\"long\""
        }
       ],
       "type": "table"
      }
     },
     "output_type": "display_data"
    }
   ],
   "source": [
    "revenue_per_hotel = df.groupBy(\"hotel_id\").agg(\n",
    "    sum(\"amount_spent\").alias(\"total_revenue\")\n",
    ").orderBy(desc(\"total_revenue\"))\n",
    "\n",
    "display(revenue_per_hotel)\n"
   ]
  },
  {
   "cell_type": "code",
   "execution_count": 0,
   "metadata": {
    "application/vnd.databricks.v1+cell": {
     "cellMetadata": {
      "byteLimit": 2048000,
      "rowLimit": 10000
     },
     "inputWidgets": {},
     "nuid": "571f92fb-8b57-4691-ab63-63fceaeb58fd",
     "showTitle": false,
     "tableResultSettingsMap": {},
     "title": ""
    }
   },
   "outputs": [
    {
     "output_type": "display_data",
     "data": {
      "text/html": [
       "<style scoped>\n",
       "  .table-result-container {\n",
       "    max-height: 300px;\n",
       "    overflow: auto;\n",
       "  }\n",
       "  table, th, td {\n",
       "    border: 1px solid black;\n",
       "    border-collapse: collapse;\n",
       "  }\n",
       "  th, td {\n",
       "    padding: 5px;\n",
       "  }\n",
       "  th {\n",
       "    text-align: left;\n",
       "  }\n",
       "</style><div class='table-result-container'><table class='table-result'><thead style='background-color: white'><tr><th>location</th><th>avg_stay_duration</th></tr></thead><tbody><tr><td>Chennai</td><td>2.9</td></tr><tr><td>Delhi</td><td>3.4285714285714284</td></tr><tr><td>Goa</td><td>3.8461538461538463</td></tr><tr><td>Hyderabad</td><td>4.916666666666667</td></tr><tr><td>Mumbai</td><td>3.375</td></tr></tbody></table></div>"
      ]
     },
     "metadata": {
      "application/vnd.databricks.v1+output": {
       "addedWidgets": {},
       "aggData": [],
       "aggError": "",
       "aggOverflow": false,
       "aggSchema": [],
       "aggSeriesLimitReached": false,
       "aggType": "",
       "arguments": {},
       "columnCustomDisplayInfos": {},
       "data": [
        [
         "Chennai",
         2.9
        ],
        [
         "Delhi",
         3.4285714285714284
        ],
        [
         "Goa",
         3.8461538461538463
        ],
        [
         "Hyderabad",
         4.916666666666667
        ],
        [
         "Mumbai",
         3.375
        ]
       ],
       "datasetInfos": [],
       "dbfsResultPath": null,
       "isJsonSchema": true,
       "metadata": {},
       "overflow": false,
       "plotOptions": {
        "customPlotOptions": {},
        "displayType": "table",
        "pivotAggregation": null,
        "pivotColumns": null,
        "xColumns": null,
        "yColumns": null
       },
       "removedWidgets": [],
       "schema": [
        {
         "metadata": "{}",
         "name": "location",
         "type": "\"string\""
        },
        {
         "metadata": "{}",
         "name": "avg_stay_duration",
         "type": "\"double\""
        }
       ],
       "type": "table"
      }
     },
     "output_type": "display_data"
    }
   ],
   "source": [
    "avg_stay_by_location = df.groupBy(\"location\").agg(\n",
    "    avg(\"stay_duration\").alias(\"avg_stay_duration\")\n",
    ").orderBy(\"location\")\n",
    "\n",
    "display(avg_stay_by_location)\n"
   ]
  },
  {
   "cell_type": "code",
   "execution_count": 0,
   "metadata": {
    "application/vnd.databricks.v1+cell": {
     "cellMetadata": {
      "byteLimit": 2048000,
      "rowLimit": 10000
     },
     "inputWidgets": {},
     "nuid": "ae7ac8bd-a002-47f8-b407-4f06fa29cd2d",
     "showTitle": false,
     "tableResultSettingsMap": {},
     "title": ""
    }
   },
   "outputs": [],
   "source": [
    "df.createOrReplaceTempView(\"bookings\")\n"
   ]
  },
  {
   "cell_type": "code",
   "execution_count": 0,
   "metadata": {
    "application/vnd.databricks.v1+cell": {
     "cellMetadata": {
      "byteLimit": 2048000,
      "rowLimit": 10000
     },
     "inputWidgets": {},
     "nuid": "d0b0a331-c2ba-4d77-a58f-7bf4bf40c2b5",
     "showTitle": false,
     "tableResultSettingsMap": {},
     "title": ""
    }
   },
   "outputs": [
    {
     "output_type": "display_data",
     "data": {
      "text/html": [
       "<style scoped>\n",
       "  .table-result-container {\n",
       "    max-height: 300px;\n",
       "    overflow: auto;\n",
       "  }\n",
       "  table, th, td {\n",
       "    border: 1px solid black;\n",
       "    border-collapse: collapse;\n",
       "  }\n",
       "  th, td {\n",
       "    padding: 5px;\n",
       "  }\n",
       "  th {\n",
       "    text-align: left;\n",
       "  }\n",
       "</style><div class='table-result-container'><table class='table-result'><thead style='background-color: white'><tr><th>hotel_id</th><th>cancellation_rate</th></tr></thead><tbody><tr><td>H104</td><td>0.4000000000000000</td></tr><tr><td>H101</td><td>0.3636363636363636</td></tr><tr><td>H102</td><td>0.2857142857142857</td></tr><tr><td>H103</td><td>0.1818181818181818</td></tr><tr><td>H105</td><td>0.1111111111111111</td></tr></tbody></table></div>"
      ]
     },
     "metadata": {
      "application/vnd.databricks.v1+output": {
       "addedWidgets": {},
       "aggData": [],
       "aggError": "",
       "aggOverflow": false,
       "aggSchema": [],
       "aggSeriesLimitReached": false,
       "aggType": "",
       "arguments": {},
       "columnCustomDisplayInfos": {},
       "data": [
        [
         "H104",
         "0.4000000000000000"
        ],
        [
         "H101",
         "0.3636363636363636"
        ],
        [
         "H102",
         "0.2857142857142857"
        ],
        [
         "H103",
         "0.1818181818181818"
        ],
        [
         "H105",
         "0.1111111111111111"
        ]
       ],
       "datasetInfos": [],
       "dbfsResultPath": null,
       "isJsonSchema": true,
       "metadata": {},
       "overflow": false,
       "plotOptions": {
        "customPlotOptions": {},
        "displayType": "table",
        "pivotAggregation": null,
        "pivotColumns": null,
        "xColumns": null,
        "yColumns": null
       },
       "removedWidgets": [],
       "schema": [
        {
         "metadata": "{}",
         "name": "hotel_id",
         "type": "\"string\""
        },
        {
         "metadata": "{}",
         "name": "cancellation_rate",
         "type": "\"decimal(38,16)\""
        }
       ],
       "type": "table"
      }
     },
     "output_type": "display_data"
    }
   ],
   "source": [
    "cancellation_rate = spark.sql(\"\"\"\n",
    "SELECT\n",
    "  hotel_id,\n",
    "  SUM(CASE WHEN status = 'cancelled' THEN 1 ELSE 0 END) * 1.0 / COUNT(*) AS cancellation_rate\n",
    "FROM bookings\n",
    "GROUP BY hotel_id\n",
    "ORDER BY cancellation_rate DESC\n",
    "LIMIT 5\n",
    "\"\"\")\n",
    "\n",
    "display(cancellation_rate)\n"
   ]
  },
  {
   "cell_type": "code",
   "execution_count": 0,
   "metadata": {
    "application/vnd.databricks.v1+cell": {
     "cellMetadata": {
      "byteLimit": 2048000,
      "rowLimit": 10000
     },
     "inputWidgets": {},
     "nuid": "b74c14da-451e-4a38-89ea-73d4fc31dbc2",
     "showTitle": false,
     "tableResultSettingsMap": {},
     "title": ""
    }
   },
   "outputs": [
    {
     "output_type": "display_data",
     "data": {
      "text/html": [
       "<style scoped>\n",
       "  .table-result-container {\n",
       "    max-height: 300px;\n",
       "    overflow: auto;\n",
       "  }\n",
       "  table, th, td {\n",
       "    border: 1px solid black;\n",
       "    border-collapse: collapse;\n",
       "  }\n",
       "  th, td {\n",
       "    padding: 5px;\n",
       "  }\n",
       "  th {\n",
       "    text-align: left;\n",
       "  }\n",
       "</style><div class='table-result-container'><table class='table-result'><thead style='background-color: white'><tr><th>month</th><th>location</th><th>total_revenue</th></tr></thead><tbody><tr><td>2024-01</td><td>Chennai</td><td>23275</td></tr><tr><td>2024-01</td><td>Hyderabad</td><td>16688</td></tr><tr><td>2024-01</td><td>Mumbai</td><td>11309</td></tr><tr><td>2024-02</td><td>Delhi</td><td>4706</td></tr><tr><td>2024-02</td><td>Goa</td><td>37846</td></tr><tr><td>2024-02</td><td>Hyderabad</td><td>44541</td></tr><tr><td>2024-03</td><td>Chennai</td><td>18966</td></tr><tr><td>2024-03</td><td>Delhi</td><td>20432</td></tr><tr><td>2024-03</td><td>Hyderabad</td><td>29509</td></tr><tr><td>2024-04</td><td>Delhi</td><td>28375</td></tr><tr><td>2024-04</td><td>Goa</td><td>22885</td></tr><tr><td>2024-04</td><td>Hyderabad</td><td>15415</td></tr><tr><td>2024-05</td><td>Chennai</td><td>34734</td></tr><tr><td>2024-05</td><td>Delhi</td><td>8865</td></tr><tr><td>2024-05</td><td>Goa</td><td>37973</td></tr><tr><td>2024-05</td><td>Hyderabad</td><td>59437</td></tr><tr><td>2024-05</td><td>Mumbai</td><td>3973</td></tr><tr><td>2024-06</td><td>Hyderabad</td><td>9819</td></tr><tr><td>2024-07</td><td>Goa</td><td>4940</td></tr><tr><td>2024-08</td><td>Chennai</td><td>4030</td></tr><tr><td>2024-08</td><td>Delhi</td><td>21390</td></tr><tr><td>2024-08</td><td>Goa</td><td>55796</td></tr><tr><td>2024-08</td><td>Mumbai</td><td>7782</td></tr><tr><td>2024-09</td><td>Chennai</td><td>2385</td></tr><tr><td>2024-09</td><td>Goa</td><td>3522</td></tr><tr><td>2024-09</td><td>Hyderabad</td><td>15004</td></tr><tr><td>2024-10</td><td>Chennai</td><td>13640</td></tr><tr><td>2024-10</td><td>Goa</td><td>9040</td></tr><tr><td>2024-10</td><td>Mumbai</td><td>41778</td></tr><tr><td>2024-11</td><td>Chennai</td><td>23421</td></tr><tr><td>2024-11</td><td>Goa</td><td>10600</td></tr><tr><td>2024-11</td><td>Hyderabad</td><td>40068</td></tr><tr><td>2024-11</td><td>Mumbai</td><td>8739</td></tr><tr><td>2024-12</td><td>Chennai</td><td>9106</td></tr><tr><td>2024-12</td><td>Delhi</td><td>27438</td></tr><tr><td>2024-12</td><td>Goa</td><td>19608</td></tr><tr><td>2024-12</td><td>Hyderabad</td><td>39312</td></tr><tr><td>2024-12</td><td>Mumbai</td><td>15504</td></tr></tbody></table></div>"
      ]
     },
     "metadata": {
      "application/vnd.databricks.v1+output": {
       "addedWidgets": {},
       "aggData": [],
       "aggError": "",
       "aggOverflow": false,
       "aggSchema": [],
       "aggSeriesLimitReached": false,
       "aggType": "",
       "arguments": {},
       "columnCustomDisplayInfos": {},
       "data": [
        [
         "2024-01",
         "Chennai",
         23275
        ],
        [
         "2024-01",
         "Hyderabad",
         16688
        ],
        [
         "2024-01",
         "Mumbai",
         11309
        ],
        [
         "2024-02",
         "Delhi",
         4706
        ],
        [
         "2024-02",
         "Goa",
         37846
        ],
        [
         "2024-02",
         "Hyderabad",
         44541
        ],
        [
         "2024-03",
         "Chennai",
         18966
        ],
        [
         "2024-03",
         "Delhi",
         20432
        ],
        [
         "2024-03",
         "Hyderabad",
         29509
        ],
        [
         "2024-04",
         "Delhi",
         28375
        ],
        [
         "2024-04",
         "Goa",
         22885
        ],
        [
         "2024-04",
         "Hyderabad",
         15415
        ],
        [
         "2024-05",
         "Chennai",
         34734
        ],
        [
         "2024-05",
         "Delhi",
         8865
        ],
        [
         "2024-05",
         "Goa",
         37973
        ],
        [
         "2024-05",
         "Hyderabad",
         59437
        ],
        [
         "2024-05",
         "Mumbai",
         3973
        ],
        [
         "2024-06",
         "Hyderabad",
         9819
        ],
        [
         "2024-07",
         "Goa",
         4940
        ],
        [
         "2024-08",
         "Chennai",
         4030
        ],
        [
         "2024-08",
         "Delhi",
         21390
        ],
        [
         "2024-08",
         "Goa",
         55796
        ],
        [
         "2024-08",
         "Mumbai",
         7782
        ],
        [
         "2024-09",
         "Chennai",
         2385
        ],
        [
         "2024-09",
         "Goa",
         3522
        ],
        [
         "2024-09",
         "Hyderabad",
         15004
        ],
        [
         "2024-10",
         "Chennai",
         13640
        ],
        [
         "2024-10",
         "Goa",
         9040
        ],
        [
         "2024-10",
         "Mumbai",
         41778
        ],
        [
         "2024-11",
         "Chennai",
         23421
        ],
        [
         "2024-11",
         "Goa",
         10600
        ],
        [
         "2024-11",
         "Hyderabad",
         40068
        ],
        [
         "2024-11",
         "Mumbai",
         8739
        ],
        [
         "2024-12",
         "Chennai",
         9106
        ],
        [
         "2024-12",
         "Delhi",
         27438
        ],
        [
         "2024-12",
         "Goa",
         19608
        ],
        [
         "2024-12",
         "Hyderabad",
         39312
        ],
        [
         "2024-12",
         "Mumbai",
         15504
        ]
       ],
       "datasetInfos": [],
       "dbfsResultPath": null,
       "isJsonSchema": true,
       "metadata": {},
       "overflow": false,
       "plotOptions": {
        "customPlotOptions": {},
        "displayType": "table",
        "pivotAggregation": null,
        "pivotColumns": null,
        "xColumns": null,
        "yColumns": null
       },
       "removedWidgets": [],
       "schema": [
        {
         "metadata": "{}",
         "name": "month",
         "type": "\"string\""
        },
        {
         "metadata": "{}",
         "name": "location",
         "type": "\"string\""
        },
        {
         "metadata": "{}",
         "name": "total_revenue",
         "type": "\"long\""
        }
       ],
       "type": "table"
      }
     },
     "output_type": "display_data"
    }
   ],
   "source": [
    "seasonal_trends = spark.sql(\"\"\"\n",
    "SELECT\n",
    "  date_format(booking_date, 'yyyy-MM') AS month,\n",
    "  location,\n",
    "  SUM(amount_spent) AS total_revenue\n",
    "FROM bookings\n",
    "GROUP BY date_format(booking_date, 'yyyy-MM'), location\n",
    "ORDER BY month, location\n",
    "\"\"\")\n",
    "\n",
    "display(seasonal_trends)\n"
   ]
  },
  {
   "cell_type": "code",
   "execution_count": 0,
   "metadata": {
    "application/vnd.databricks.v1+cell": {
     "cellMetadata": {
      "byteLimit": 2048000,
      "rowLimit": 10000
     },
     "inputWidgets": {},
     "nuid": "7b6c2860-6904-4594-9069-e41019d599b2",
     "showTitle": false,
     "tableResultSettingsMap": {},
     "title": ""
    }
   },
   "outputs": [],
   "source": [
    "# Save outputs (single CSV each)\n",
    "revenue_per_hotel.coalesce(1).write.mode(\"overwrite\").option(\"header\", True).csv(\"/Volumes/travel_catalog/exam_schema/travel_volume/output/revenue_per_hotel\")\n",
    "avg_stay_by_location.coalesce(1).write.mode(\"overwrite\").option(\"header\", True).csv(\"/Volumes/travel_catalog/exam_schema/travel_volume/output/avg_stay_by_location\")\n",
    "cancellation_rate.coalesce(1).write.mode(\"overwrite\").option(\"header\", True).csv(\"/Volumes/travel_catalog/exam_schema/travel_volume/output/cancellation_rate\")\n",
    "seasonal_trends.coalesce(1).write.mode(\"overwrite\").option(\"header\", True).csv(\"/Volumes/travel_catalog/exam_schema/travel_volume/output/seasonal_trends\")\n"
   ]
  },
  {
   "cell_type": "code",
   "execution_count": 0,
   "metadata": {
    "application/vnd.databricks.v1+cell": {
     "cellMetadata": {
      "byteLimit": 2048000,
      "rowLimit": 10000
     },
     "inputWidgets": {},
     "nuid": "15779ee3-78fb-4cdb-a882-7eef11fdeb75",
     "showTitle": false,
     "tableResultSettingsMap": {},
     "title": ""
    }
   },
   "outputs": [
    {
     "output_type": "display_data",
     "data": {
      "text/html": [
       "<style scoped>\n",
       "  .table-result-container {\n",
       "    max-height: 300px;\n",
       "    overflow: auto;\n",
       "  }\n",
       "  table, th, td {\n",
       "    border: 1px solid black;\n",
       "    border-collapse: collapse;\n",
       "  }\n",
       "  th, td {\n",
       "    padding: 5px;\n",
       "  }\n",
       "  th {\n",
       "    text-align: left;\n",
       "  }\n",
       "</style><div class='table-result-container'><table class='table-result'><thead style='background-color: white'><tr><th>path</th><th>name</th><th>size</th><th>modificationTime</th></tr></thead><tbody><tr><td>dbfs:/Volumes/travel_catalog/exam_schema/travel_volume/output/avg_stay_by_location/</td><td>avg_stay_by_location/</td><td>0</td><td>1756896902992</td></tr><tr><td>dbfs:/Volumes/travel_catalog/exam_schema/travel_volume/output/cancellation_rate/</td><td>cancellation_rate/</td><td>0</td><td>1756896902993</td></tr><tr><td>dbfs:/Volumes/travel_catalog/exam_schema/travel_volume/output/revenue_per_hotel/</td><td>revenue_per_hotel/</td><td>0</td><td>1756896902993</td></tr><tr><td>dbfs:/Volumes/travel_catalog/exam_schema/travel_volume/output/seasonal_trends/</td><td>seasonal_trends/</td><td>0</td><td>1756896902993</td></tr></tbody></table></div>"
      ]
     },
     "metadata": {
      "application/vnd.databricks.v1+output": {
       "addedWidgets": {},
       "aggData": [],
       "aggError": "",
       "aggOverflow": false,
       "aggSchema": [],
       "aggSeriesLimitReached": false,
       "aggType": "",
       "arguments": {},
       "columnCustomDisplayInfos": {},
       "data": [
        [
         "dbfs:/Volumes/travel_catalog/exam_schema/travel_volume/output/avg_stay_by_location/",
         "avg_stay_by_location/",
         0,
         1756896902992
        ],
        [
         "dbfs:/Volumes/travel_catalog/exam_schema/travel_volume/output/cancellation_rate/",
         "cancellation_rate/",
         0,
         1756896902993
        ],
        [
         "dbfs:/Volumes/travel_catalog/exam_schema/travel_volume/output/revenue_per_hotel/",
         "revenue_per_hotel/",
         0,
         1756896902993
        ],
        [
         "dbfs:/Volumes/travel_catalog/exam_schema/travel_volume/output/seasonal_trends/",
         "seasonal_trends/",
         0,
         1756896902993
        ]
       ],
       "datasetInfos": [],
       "dbfsResultPath": null,
       "isJsonSchema": true,
       "metadata": {},
       "overflow": false,
       "plotOptions": {
        "customPlotOptions": {},
        "displayType": "table",
        "pivotAggregation": null,
        "pivotColumns": null,
        "xColumns": null,
        "yColumns": null
       },
       "removedWidgets": [],
       "schema": [
        {
         "metadata": "{}",
         "name": "path",
         "type": "\"string\""
        },
        {
         "metadata": "{}",
         "name": "name",
         "type": "\"string\""
        },
        {
         "metadata": "{}",
         "name": "size",
         "type": "\"long\""
        },
        {
         "metadata": "{}",
         "name": "modificationTime",
         "type": "\"long\""
        }
       ],
       "type": "table"
      }
     },
     "output_type": "display_data"
    }
   ],
   "source": [
    "display(dbutils.fs.ls(\"/Volumes/travel_catalog/exam_schema/travel_volume/output/\"))\n"
   ]
  },
  {
   "cell_type": "code",
   "execution_count": 0,
   "metadata": {
    "application/vnd.databricks.v1+cell": {
     "cellMetadata": {
      "byteLimit": 2048000,
      "rowLimit": 10000
     },
     "inputWidgets": {},
     "nuid": "90f714b3-8784-4a80-bf71-5c56dd914168",
     "showTitle": false,
     "tableResultSettingsMap": {},
     "title": ""
    }
   },
   "outputs": [
    {
     "output_type": "display_data",
     "data": {
      "image/png": "[encoded data removed]",
      "text/plain": [
       "<Figure size 800x500 with 1 Axes>"
      ]
     },
     "metadata": {},
     "output_type": "display_data"
    }
   ],
   "source": [
    "import matplotlib.pyplot as plt\n",
    "\n",
    "# Convert Spark DataFrame to Pandas\n",
    "rev_df = df.groupBy(\"hotel_id\").sum(\"amount_spent\").toPandas()\n",
    "\n",
    "plt.figure(figsize=(8,5))\n",
    "plt.bar(rev_df[\"hotel_id\"], rev_df[\"sum(amount_spent)\"], color=\"skyblue\")\n",
    "plt.xlabel(\"Hotel ID\")\n",
    "plt.ylabel(\"Total Revenue\")\n",
    "plt.title(\"Total Revenue per Hotel\")\n",
    "plt.xticks(rotation=45)\n",
    "plt.show()\n"
   ]
  },
  {
   "cell_type": "code",
   "execution_count": 0,
   "metadata": {
    "application/vnd.databricks.v1+cell": {
     "cellMetadata": {
      "byteLimit": 2048000,
      "rowLimit": 10000
     },
     "inputWidgets": {},
     "nuid": "0ff924be-fb24-4463-b9fc-c46cb53c2b83",
     "showTitle": false,
     "tableResultSettingsMap": {},
     "title": ""
    }
   },
   "outputs": [
    {
     "output_type": "display_data",
     "data": {
      "image/png": "[encoded data removed]",
      "text/plain": [
       "<Figure size 800x500 with 1 Axes>"
      ]
     },
     "metadata": {},
     "output_type": "display_data"
    }
   ],
   "source": [
    "avg_stay_df = df.groupBy(\"location\").avg(\"stay_duration\").toPandas()\n",
    "\n",
    "plt.figure(figsize=(8,5))\n",
    "plt.bar(avg_stay_df[\"location\"], avg_stay_df[\"avg(stay_duration)\"], color=\"lightgreen\")\n",
    "plt.xlabel(\"Location\")\n",
    "plt.ylabel(\"Average Stay Duration\")\n",
    "plt.title(\"Average Stay Duration by Location\")\n",
    "plt.xticks(rotation=45)\n",
    "plt.show()\n"
   ]
  },
  {
   "cell_type": "code",
   "execution_count": 0,
   "metadata": {
    "application/vnd.databricks.v1+cell": {
     "cellMetadata": {
      "byteLimit": 2048000,
      "rowLimit": 10000
     },
     "inputWidgets": {},
     "nuid": "88b2b131-5cbf-43e6-a547-2b6a02bbf13a",
     "showTitle": false,
     "tableResultSettingsMap": {},
     "title": ""
    }
   },
   "outputs": [
    {
     "output_type": "display_data",
     "data": {
      "image/png": "[encoded data removed]",
      "text/plain": [
       "<Figure size 800x500 with 1 Axes>"
      ]
     },
     "metadata": {},
     "output_type": "display_data"
    }
   ],
   "source": [
    "from pyspark.sql.functions import col, when, count\n",
    "\n",
    "# Calculate cancellation rate\n",
    "cancel_rate = (\n",
    "    df.groupBy(\"hotel_id\")\n",
    "    .agg(\n",
    "        (count(when(col(\"status\")==\"cancelled\", 1))/count(\"*\")).alias(\"cancel_rate\")\n",
    "    )\n",
    "    .toPandas()\n",
    ")\n",
    "\n",
    "plt.figure(figsize=(8,5))\n",
    "plt.bar(cancel_rate[\"hotel_id\"], cancel_rate[\"cancel_rate\"], color=\"salmon\")\n",
    "plt.xlabel(\"Hotel ID\")\n",
    "plt.ylabel(\"Cancellation Rate\")\n",
    "plt.title(\"Cancellation Rate by Hotel\")\n",
    "plt.xticks(rotation=45)\n",
    "plt.show()\n"
   ]
  },
  {
   "cell_type": "code",
   "execution_count": 0,
   "metadata": {
    "application/vnd.databricks.v1+cell": {
     "cellMetadata": {
      "byteLimit": 2048000,
      "rowLimit": 10000
     },
     "inputWidgets": {},
     "nuid": "359dbbff-79cb-449a-9a31-57fa2d4e0f09",
     "showTitle": false,
     "tableResultSettingsMap": {},
     "title": ""
    }
   },
   "outputs": [
    {
     "output_type": "display_data",
     "data": {
      "image/png": "[encoded data removed]",
      "text/plain": [
       "<Figure size 1000x500 with 1 Axes>"
      ]
     },
     "metadata": {},
     "output_type": "display_data"
    }
   ],
   "source": [
    "from pyspark.sql.functions import to_date, date_format\n",
    "\n",
    "trend_df = (\n",
    "    df.withColumn(\"month\", date_format(to_date(col(\"booking_date\"), \"yyyy-MM-dd\"), \"yyyy-MM\"))\n",
    "    .groupBy(\"month\")\n",
    "    .sum(\"amount_spent\")\n",
    "    .orderBy(\"month\")\n",
    "    .toPandas()\n",
    ")\n",
    "\n",
    "plt.figure(figsize=(10,5))\n",
    "plt.plot(trend_df[\"month\"], trend_df[\"sum(amount_spent)\"], marker=\"o\", color=\"purple\")\n",
    "plt.xlabel(\"Month\")\n",
    "plt.ylabel(\"Revenue\")\n",
    "plt.title(\"Monthly Revenue Trend\")\n",
    "plt.xticks(rotation=45)\n",
    "plt.grid(True)\n",
    "plt.show()\n"
   ]
  }
 ],
 "metadata": {
  "application/vnd.databricks.v1+notebook": {
   "computePreferences": null,
   "dashboards": [],
   "environmentMetadata": {
    "base_environment": "",
    "environment_version": "3"
   },
   "inputWidgetPreferences": null,
   "language": "python",
   "notebookMetadata": {
    "pythonIndentUnit": 4
   },
   "notebookName": "Untitled Notebook 2025-09-03 16:19:16",
   "widgets": {}
  },
  "language_info": {
   "name": "python"
  }
 },
 "nbformat": 4,
 "nbformat_minor": 0
}